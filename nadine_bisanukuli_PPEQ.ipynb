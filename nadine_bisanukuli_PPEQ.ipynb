{
 "cells": [
  {
   "cell_type": "code",
   "execution_count": 2,
   "id": "a5ddd66c",
   "metadata": {},
   "outputs": [
    {
     "data": {
      "application/javascript": [
       "MathJax.Hub.Config({\n",
       "    TeX: { equationNumbers: { autoNumber: \"AMS\" } }\n",
       "});\n"
      ],
      "text/plain": [
       "<IPython.core.display.Javascript object>"
      ]
     },
     "metadata": {},
     "output_type": "display_data"
    }
   ],
   "source": [
    "%%javascript\n",
    "MathJax.Hub.Config({\n",
    "    TeX: { equationNumbers: { autoNumber: \"AMS\" } }\n",
    "});"
   ]
  },
  {
   "cell_type": "markdown",
   "id": "c746934d",
   "metadata": {},
   "source": [
    "Import all the necessary library in the cell below"
   ]
  },
  {
   "cell_type": "code",
   "execution_count": 132,
   "id": "1811c293",
   "metadata": {},
   "outputs": [],
   "source": [
    "import numpy as np\n",
    "from scipy.optimize import fsolve\n",
    "from scipy.integrate import odeint\n",
    "import matplotlib.pyplot as plt\n",
    "from scipy.integrate import quad\n",
    "import seaborn as sb\n",
    "from sklearn.model_selection import train_test_split\n",
    "from sklearn.linear_model import LogisticRegression\n"
   ]
  },
  {
   "cell_type": "markdown",
   "id": "f8915504",
   "metadata": {},
   "source": [
    "**Problem 1**\n",
    "\n",
    "1- Load the titanic dataset from the seaborn package."
   ]
  },
  {
   "cell_type": "code",
   "execution_count": 101,
   "id": "27fe6013",
   "metadata": {},
   "outputs": [],
   "source": [
    "datas = sb.load_dataset(\"titanic\")"
   ]
  },
  {
   "cell_type": "markdown",
   "id": "447328fa",
   "metadata": {},
   "source": [
    "2- how many columns in this dataset?"
   ]
  },
  {
   "cell_type": "code",
   "execution_count": 103,
   "id": "2a1d8f07",
   "metadata": {},
   "outputs": [
    {
     "data": {
      "text/plain": [
       "15"
      ]
     },
     "execution_count": 103,
     "metadata": {},
     "output_type": "execute_result"
    }
   ],
   "source": [
    "datas.shape[1]"
   ]
  },
  {
   "cell_type": "markdown",
   "id": "b55917b4",
   "metadata": {},
   "source": [
    "3- list the names of all columns and describe the datatype of each column? "
   ]
  },
  {
   "cell_type": "code",
   "execution_count": 104,
   "id": "f78025c1",
   "metadata": {},
   "outputs": [
    {
     "name": "stdout",
     "output_type": "stream",
     "text": [
      "<class 'pandas.core.frame.DataFrame'>\n",
      "RangeIndex: 891 entries, 0 to 890\n",
      "Data columns (total 15 columns):\n",
      " #   Column       Non-Null Count  Dtype   \n",
      "---  ------       --------------  -----   \n",
      " 0   survived     891 non-null    int64   \n",
      " 1   pclass       891 non-null    int64   \n",
      " 2   sex          891 non-null    object  \n",
      " 3   age          714 non-null    float64 \n",
      " 4   sibsp        891 non-null    int64   \n",
      " 5   parch        891 non-null    int64   \n",
      " 6   fare         891 non-null    float64 \n",
      " 7   embarked     889 non-null    object  \n",
      " 8   class        891 non-null    category\n",
      " 9   who          891 non-null    object  \n",
      " 10  adult_male   891 non-null    bool    \n",
      " 11  deck         203 non-null    category\n",
      " 12  embark_town  889 non-null    object  \n",
      " 13  alive        891 non-null    object  \n",
      " 14  alone        891 non-null    bool    \n",
      "dtypes: bool(2), category(2), float64(2), int64(4), object(5)\n",
      "memory usage: 80.6+ KB\n"
     ]
    }
   ],
   "source": [
    "datas.info()"
   ]
  },
  {
   "cell_type": "markdown",
   "id": "6fa74819",
   "metadata": {},
   "source": [
    "4- Count the number of missing values in each column"
   ]
  },
  {
   "cell_type": "code",
   "execution_count": 108,
   "id": "b7b20810",
   "metadata": {},
   "outputs": [
    {
     "data": {
      "text/plain": [
       "survived         0\n",
       "pclass           0\n",
       "sex              0\n",
       "age            177\n",
       "sibsp            0\n",
       "parch            0\n",
       "fare             0\n",
       "embarked         2\n",
       "class            0\n",
       "who              0\n",
       "adult_male       0\n",
       "deck           688\n",
       "embark_town      2\n",
       "alive            0\n",
       "alone            0\n",
       "dtype: int64"
      ]
     },
     "execution_count": 108,
     "metadata": {},
     "output_type": "execute_result"
    }
   ],
   "source": [
    "datas.isnull().sum()"
   ]
  },
  {
   "cell_type": "markdown",
   "id": "5b87c877",
   "metadata": {},
   "source": [
    "5- Clean the dataset by removing every record that contains a missing value? "
   ]
  },
  {
   "cell_type": "code",
   "execution_count": 109,
   "id": "def3d590",
   "metadata": {},
   "outputs": [],
   "source": [
    "datas.drop(columns = ['deck'], inplace = True)\n",
    "datas.dropna(axis = 0, inplace = True)"
   ]
  },
  {
   "cell_type": "markdown",
   "id": "890db3ea",
   "metadata": {},
   "source": [
    "6 - Compute the average age of females and males who survived? "
   ]
  },
  {
   "cell_type": "code",
   "execution_count": 119,
   "id": "1b94fd9b",
   "metadata": {},
   "outputs": [
    {
     "data": {
      "text/plain": [
       "27.62122159090909"
      ]
     },
     "execution_count": 119,
     "metadata": {},
     "output_type": "execute_result"
    }
   ],
   "source": [
    "datas.loc[(datas['sex'] == 'female')|(datas['sex'] == 'male') & (datas['survived'] == 1)].mean()[2]"
   ]
  },
  {
   "cell_type": "markdown",
   "id": "d655ac41",
   "metadata": {},
   "source": [
    "6 - Count how many people survived by age and sex. Display the result as DataFrame. "
   ]
  },
  {
   "cell_type": "code",
   "execution_count": 182,
   "id": "c3ced5b9",
   "metadata": {},
   "outputs": [
    {
     "data": {
      "text/html": [
       "<div>\n",
       "<style scoped>\n",
       "    .dataframe tbody tr th:only-of-type {\n",
       "        vertical-align: middle;\n",
       "    }\n",
       "\n",
       "    .dataframe tbody tr th {\n",
       "        vertical-align: top;\n",
       "    }\n",
       "\n",
       "    .dataframe thead th {\n",
       "        text-align: right;\n",
       "    }\n",
       "</style>\n",
       "<table border=\"1\" class=\"dataframe\">\n",
       "  <thead>\n",
       "    <tr style=\"text-align: right;\">\n",
       "      <th></th>\n",
       "      <th></th>\n",
       "      <th>survived</th>\n",
       "      <th>pclass</th>\n",
       "      <th>sibsp</th>\n",
       "      <th>parch</th>\n",
       "      <th>fare</th>\n",
       "      <th>adult_male</th>\n",
       "      <th>alone</th>\n",
       "    </tr>\n",
       "    <tr>\n",
       "      <th>sex</th>\n",
       "      <th>age</th>\n",
       "      <th></th>\n",
       "      <th></th>\n",
       "      <th></th>\n",
       "      <th></th>\n",
       "      <th></th>\n",
       "      <th></th>\n",
       "      <th></th>\n",
       "    </tr>\n",
       "  </thead>\n",
       "  <tbody>\n",
       "    <tr>\n",
       "      <th rowspan=\"5\" valign=\"top\">female</th>\n",
       "      <th>0.75</th>\n",
       "      <td>2</td>\n",
       "      <td>6</td>\n",
       "      <td>4</td>\n",
       "      <td>2</td>\n",
       "      <td>38.5166</td>\n",
       "      <td>0</td>\n",
       "      <td>0</td>\n",
       "    </tr>\n",
       "    <tr>\n",
       "      <th>1.00</th>\n",
       "      <td>2</td>\n",
       "      <td>6</td>\n",
       "      <td>1</td>\n",
       "      <td>3</td>\n",
       "      <td>26.8750</td>\n",
       "      <td>0</td>\n",
       "      <td>0</td>\n",
       "    </tr>\n",
       "    <tr>\n",
       "      <th>2.00</th>\n",
       "      <td>2</td>\n",
       "      <td>15</td>\n",
       "      <td>9</td>\n",
       "      <td>9</td>\n",
       "      <td>259.4750</td>\n",
       "      <td>0</td>\n",
       "      <td>0</td>\n",
       "    </tr>\n",
       "    <tr>\n",
       "      <th>3.00</th>\n",
       "      <td>1</td>\n",
       "      <td>5</td>\n",
       "      <td>4</td>\n",
       "      <td>3</td>\n",
       "      <td>62.6542</td>\n",
       "      <td>0</td>\n",
       "      <td>0</td>\n",
       "    </tr>\n",
       "    <tr>\n",
       "      <th>4.00</th>\n",
       "      <td>5</td>\n",
       "      <td>13</td>\n",
       "      <td>4</td>\n",
       "      <td>6</td>\n",
       "      <td>114.1417</td>\n",
       "      <td>0</td>\n",
       "      <td>0</td>\n",
       "    </tr>\n",
       "    <tr>\n",
       "      <th>...</th>\n",
       "      <th>...</th>\n",
       "      <td>...</td>\n",
       "      <td>...</td>\n",
       "      <td>...</td>\n",
       "      <td>...</td>\n",
       "      <td>...</td>\n",
       "      <td>...</td>\n",
       "      <td>...</td>\n",
       "    </tr>\n",
       "    <tr>\n",
       "      <th rowspan=\"5\" valign=\"top\">male</th>\n",
       "      <th>70.00</th>\n",
       "      <td>0</td>\n",
       "      <td>3</td>\n",
       "      <td>1</td>\n",
       "      <td>1</td>\n",
       "      <td>81.5000</td>\n",
       "      <td>2</td>\n",
       "      <td>1</td>\n",
       "    </tr>\n",
       "    <tr>\n",
       "      <th>70.50</th>\n",
       "      <td>0</td>\n",
       "      <td>3</td>\n",
       "      <td>0</td>\n",
       "      <td>0</td>\n",
       "      <td>7.7500</td>\n",
       "      <td>1</td>\n",
       "      <td>1</td>\n",
       "    </tr>\n",
       "    <tr>\n",
       "      <th>71.00</th>\n",
       "      <td>0</td>\n",
       "      <td>2</td>\n",
       "      <td>0</td>\n",
       "      <td>0</td>\n",
       "      <td>84.1584</td>\n",
       "      <td>2</td>\n",
       "      <td>2</td>\n",
       "    </tr>\n",
       "    <tr>\n",
       "      <th>74.00</th>\n",
       "      <td>0</td>\n",
       "      <td>3</td>\n",
       "      <td>0</td>\n",
       "      <td>0</td>\n",
       "      <td>7.7750</td>\n",
       "      <td>1</td>\n",
       "      <td>1</td>\n",
       "    </tr>\n",
       "    <tr>\n",
       "      <th>80.00</th>\n",
       "      <td>1</td>\n",
       "      <td>1</td>\n",
       "      <td>0</td>\n",
       "      <td>0</td>\n",
       "      <td>30.0000</td>\n",
       "      <td>1</td>\n",
       "      <td>1</td>\n",
       "    </tr>\n",
       "  </tbody>\n",
       "</table>\n",
       "<p>144 rows × 7 columns</p>\n",
       "</div>"
      ],
      "text/plain": [
       "              survived  pclass  sibsp  parch      fare  adult_male  alone\n",
       "sex    age                                                               \n",
       "female 0.75          2       6      4      2   38.5166           0      0\n",
       "       1.00          2       6      1      3   26.8750           0      0\n",
       "       2.00          2      15      9      9  259.4750           0      0\n",
       "       3.00          1       5      4      3   62.6542           0      0\n",
       "       4.00          5      13      4      6  114.1417           0      0\n",
       "...                ...     ...    ...    ...       ...         ...    ...\n",
       "male   70.00         0       3      1      1   81.5000           2      1\n",
       "       70.50         0       3      0      0    7.7500           1      1\n",
       "       71.00         0       2      0      0   84.1584           2      2\n",
       "       74.00         0       3      0      0    7.7750           1      1\n",
       "       80.00         1       1      0      0   30.0000           1      1\n",
       "\n",
       "[144 rows x 7 columns]"
      ]
     },
     "execution_count": 182,
     "metadata": {},
     "output_type": "execute_result"
    }
   ],
   "source": [
    "datas.groupby(by = ['sex', 'age']).sum()"
   ]
  },
  {
   "cell_type": "markdown",
   "id": "c2b3bb3e",
   "metadata": {},
   "source": [
    "7- Build a logistic regression model using the pclass, age, parch, sex, and fare columns as explanatory variables and the survived column as response variable"
   ]
  },
  {
   "cell_type": "code",
   "execution_count": 173,
   "id": "3efaaee3",
   "metadata": {},
   "outputs": [
    {
     "name": "stdout",
     "output_type": "stream",
     "text": [
      "Object `male` not found.\n"
     ]
    }
   ],
   "source": [
    "X = datas[[\"pclass\",\"age\", \"parch\",\"sex\",\"fare\"]].values.reshape(-1,5)\n",
    "y = datas[\"survived\"].values.flatten()\n",
    "X_train, X_test, y_train, y_test = train_test_split(X, y, test_size = 0.25, random_state = 0)\n",
    "classifier = LogisticRegression(random_state = 0, multi_class='auto')\n",
    "# classifier.fit(X_train, y_train)"
   ]
  },
  {
   "cell_type": "markdown",
   "id": "a24e015f",
   "metadata": {},
   "source": [
    "8- Measure its performance using accuracy score and display the confusion matrix. "
   ]
  },
  {
   "cell_type": "code",
   "execution_count": null,
   "id": "fe043e7d",
   "metadata": {},
   "outputs": [],
   "source": []
  },
  {
   "cell_type": "markdown",
   "id": "c9cc0418",
   "metadata": {},
   "source": [
    "9- Interpret the result"
   ]
  },
  {
   "cell_type": "code",
   "execution_count": null,
   "id": "df13002e",
   "metadata": {},
   "outputs": [],
   "source": []
  },
  {
   "cell_type": "markdown",
   "id": "46e969f3",
   "metadata": {},
   "source": [
    "**Problem 2**\n",
    "\n",
    "Let assume we have the one dimensional process model\n",
    "\\begin{equation}\n",
    "x_i = \\alpha x_{i-1}+\\delta_i, \\text{ with }\\delta_i\\thicksim \\mathcal{N}(0,q^2),\\;\\; i = 1,\\cdots,N ,\n",
    "\\end{equation}\n",
    "and $x_0\\thicksim \\mathcal{N}(\\mu,r^2)$. Assume the data model is \n",
    "\n",
    "\\begin{equation}\n",
    "y_i = h_i x_{i}+\\epsilon_i, \\text{ with }\\epsilon_i\\thicksim \\mathcal{N}(0,s^2),\\;\\; i = 1,\\cdots,N ,\n",
    "\\end{equation}\n",
    "where\n",
    "$$\n",
    "h_i =\\begin{cases}\n",
    " 1, \\;\\;& i=&1,\\cdots,N_1\\\\\n",
    "0.1, & i=&N_1+1,\\cdots, N_2\\\\\n",
    "0.9, & i=&N_2+1,\\cdots,N\n",
    "\\end{cases}.\n",
    "$$\n",
    "Note that $N_1<N_2<N$.\n",
    "\n",
    "1- Write Python function called **Process** that takes $\\alpha, N, q, \\mu, r$ and return the array $x$ of the $x_i, i=0,\\cdots,N$."
   ]
  },
  {
   "cell_type": "code",
   "execution_count": 158,
   "id": "5e9de586",
   "metadata": {},
   "outputs": [],
   "source": [
    "def Process(al, N, q,mu,r):\n",
    "    x = np.zeros(N+1)\n",
    "    x[0] = np.random.normal(mu,r)\n",
    "    for i in range(1, N+1):\n",
    "        delta = np.random.normal(0, q)\n",
    "        x[i] = al*x[i-1] + delta\n",
    "        \n",
    "    return x\n"
   ]
  },
  {
   "cell_type": "markdown",
   "id": "926edbdd",
   "metadata": {},
   "source": [
    "2- Write Python function called **Data** that takes array $x$ of the $x_i$, $s, N_1, N_2, N$ and return the array $y$ of $y_i,i=1,\\cdots,N$"
   ]
  },
  {
   "cell_type": "code",
   "execution_count": 159,
   "id": "44f0b4ca",
   "metadata": {},
   "outputs": [],
   "source": [
    "def Data(xi, s, N1,N2,N):\n",
    "    for i in range(1,N+1):\n",
    "        if i < N1:\n",
    "            h = 1\n",
    "        elif i<N2:\n",
    "            h = 0.1\n",
    "        else:\n",
    "            h = 0.9\n",
    "        Ei = np.random.normal(0,s)\n",
    "        y = h*xi[1:] + Ei\n",
    "\n",
    "    return y"
   ]
  },
  {
   "cell_type": "markdown",
   "id": "08114e2e",
   "metadata": {},
   "source": [
    "3- Write a program to plot the data on the same graph as the process model, for \\begin{equation}\n",
    "r = 0.1, q=0.4, s=0.9, \\mu = 0.01, \\alpha = 0.8,N = 50,  N_1 = 20,  N_2 = 30\n",
    "\\end{equation}"
   ]
  },
  {
   "cell_type": "code",
   "execution_count": 160,
   "id": "769d1b0a",
   "metadata": {},
   "outputs": [
    {
     "data": {
      "image/png": "[encoded data removed]",
      "text/plain": [
       "<Figure size 432x288 with 1 Axes>"
      ]
     },
     "metadata": {
      "needs_background": "light"
     },
     "output_type": "display_data"
    }
   ],
   "source": [
    "xi = Process(0.8,50,0.4,0.01,0.1)\n",
    "y = Data(xi,0.9,20,30,50)\n",
    "\n",
    "plt.plot(np.arange(0, len(xi)), xi)\n",
    "plt.plot(np.arange(1, len(xi)), y)\n",
    "plt.show()"
   ]
  },
  {
   "cell_type": "markdown",
   "id": "e991b9bd",
   "metadata": {},
   "source": [
    "4- Use the general formulas given for the Kalman filter to find the one dimensional formulas for\n",
    "\n",
    "\\begin{equation}\n",
    "\\mu_{1\\mid 0}, \\sigma_{1\\mid 0}, k_1, \\mu_{1\\mid 1},\\sigma_{1\\mid 1},\n",
    "\\end{equation}\n",
    "in term of $\\alpha, q,r,s,\\mu$ and $y_1$ (write the answer as markdown)"
   ]
  },
  {
   "cell_type": "code",
   "execution_count": null,
   "id": "f5b6e8ab",
   "metadata": {},
   "outputs": [],
   "source": []
  },
  {
   "cell_type": "markdown",
   "id": "6deefef9",
   "metadata": {},
   "source": [
    "5- Using the general formulas given for the Kalman filter, write Python program to calculate\n",
    "\\begin{equation}\n",
    "\\mu_{i\\mid i-1}, \\sigma_{i\\mid i-1}, k_i, \\mu_{i\\mid i},\\sigma_{i\\mid i},\n",
    "\\end{equation}\n",
    "for $i=1,\\cdots, N$. Be sure to\n",
    "initialize the loop over $i$. Hint: I suggest using $\\text{mu\\_old}[i]$ for $\\mu_{i\\mid i-1}$, $\\text{sigma\\_old}[i]$ for $\\sigma_{i\\mid i-1}$, $\\text{mu\\_new}[i]$ for $\\mu_{i\\mid i}$, $\\text{sigma\\_new}[i]$ for $\\sigma_{i\\mid i}$"
   ]
  },
  {
   "cell_type": "code",
   "execution_count": 166,
   "id": "ebda13cb",
   "metadata": {},
   "outputs": [],
   "source": [
    "def mucal(al,N,q,r,h=1):\n",
    "    mu_new=np.zeros(N)\n",
    "    mu_old=np.zeros(N); \n",
    "    sigma_new=np.zeros(N); sigma_new[0] = 1\n",
    "    sigma_old=np.zeros(N)\n",
    "    K = np.zeros(N)\n",
    "    for i in range(1, N):\n",
    "        mu_old[i] = al*mu_new[i-1]\n",
    "        sigma_old[i] = q + al*sigma_new[i-1]\n",
    "        K[i] = sigma_old[i] * h * (h**2 * sigma_old[i] + r)**-1\n",
    "        mu_new[i] = mu_old[i] + K[i]*(y[i]- h*mu_old[i])\n",
    "        sigma_new[i] = (1 - K[i]*h) * sigma_old[i]\n",
    "        \n",
    "    return mu_new, mu_old, sigma_new, sigma_old\n",
    "mu_new, mu_old, sigma_new, sigma_old = mucal(0.8,50,0.4,0.1)"
   ]
  },
  {
   "cell_type": "markdown",
   "id": "8b9f5d18",
   "metadata": {},
   "source": [
    "6- Write a Python program to plot the states $x_i$ and data $y_i$ together with the filtered and forecasted estimates on the same graph."
   ]
  },
  {
   "cell_type": "code",
   "execution_count": 170,
   "id": "c868fdb6",
   "metadata": {},
   "outputs": [
    {
     "data": {
      "image/png": "[encoded data removed]",
      "text/plain": [
       "<Figure size 432x288 with 1 Axes>"
      ]
     },
     "metadata": {
      "needs_background": "light"
     },
     "output_type": "display_data"
    }
   ],
   "source": [
    "plt.plot(np.arange(0, len(xi)), xi, label = 'xi')\n",
    "plt.plot(np.arange(1, len(xi)), y, label = 'y')\n",
    "plt.plot(np.arange(1, len(xi)), mu_old,label = 'mu_old')\n",
    "plt.plot(np.arange(1, len(xi)), mu_new, label = 'mu_new')\n",
    "plt.plot(np.arange(1, len(xi)), sigma_old, label = 'sigma_old')\n",
    "plt.plot(np.arange(1, len(xi)), sigma_new, label = 'sigma_new')\n",
    "plt.legend()\n",
    "plt.show()"
   ]
  },
  {
   "cell_type": "markdown",
   "id": "908e0240",
   "metadata": {},
   "source": [
    "**Problem 3**\n",
    "\n",
    "1- Let $\\{ x_k\\}$ be a partition of $[a,b]$ such that $a=x_1<\\cdots<x_{N-1}<x_N=b$ and $H$ be the length of the $k$-th subinterval ($H = x_k - x_{k-1}$),\n",
    "then we have \n",
    "$$\\int_a^bf(x)dx \\approx \\sum_{k=2}^N \\frac{f(x_{k-1})+f(x_k)}{2}H = Z$$\n",
    "\n",
    "\n",
    "Write a function named <b>Trap</b> that takes $a,b,N, f$ as inputs and return Z. Here, ``N = 50`` is the default value."
   ]
  },
  {
   "cell_type": "code",
   "execution_count": 176,
   "id": "cff4115d",
   "metadata": {},
   "outputs": [],
   "source": [
    "def Trap(a,b,f,N=50):\n",
    "    x=np.linspace(a,b,N)\n",
    "    Z=0\n",
    "    H = (b-a)/N\n",
    "    for i in range(2,N):\n",
    "#         H = x[i]-x[i-1]\n",
    "        Z += Z+H*(f(x[i-1])+f(x[i]))/2\n",
    "    return Z"
   ]
  },
  {
   "cell_type": "markdown",
   "id": "6d455ed2",
   "metadata": {},
   "source": [
    "2- Let $m_k$  be the midpoint of the subinterval $[x_k,x_{k+1}]$ for all $k=1,\\cdots,N-1$, we have \n",
    "\n",
    "$$\\int_a^bf(x)dx \\approx \\sum_{m_k} f(m_{k})H = W$$\n",
    "\n",
    "Write a function named <b>Mid</b> that takes $a,b,N, f$ as inputs and return W. Here, ``N = 50`` is the default value."
   ]
  },
  {
   "cell_type": "code",
   "execution_count": 95,
   "id": "f1648d52",
   "metadata": {},
   "outputs": [],
   "source": [
    "def Mid(a,b,f,N = 50):\n",
    "    x=np.linspace(a,b,N)\n",
    "    W=0\n",
    "    H = (b-a)/N\n",
    "    m = (x[1]+x[0])/2\n",
    "    for i in range(2,N):\n",
    "        m = (x[i]+x[i-1])/2\n",
    "        W+=W+f(m)*H\n",
    "    return W"
   ]
  },
  {
   "cell_type": "markdown",
   "id": "dec53d7f",
   "metadata": {},
   "source": [
    "3- Using **Trap, Mid** and python inbuilt function **Quad**, compute and display the integral \n",
    "\n",
    "$$A = \\int_0^{\\sqrt{\\ln(2)}}xe^{x^2}dx$$"
   ]
  },
  {
   "cell_type": "code",
   "execution_count": 178,
   "id": "066f0a44",
   "metadata": {},
   "outputs": [
    {
     "data": {
      "text/plain": [
       "0.4999999999999998"
      ]
     },
     "execution_count": 178,
     "metadata": {},
     "output_type": "execute_result"
    }
   ],
   "source": [
    "f = lambda x : x*np.exp(x**2)\n",
    "Mid(0,np.sqrt(np.log(2)),f)\n",
    "Trap(0,np.sqrt(np.log(2)),f)\n",
    "quad(f,0,np.sqrt(np.log(2)))[0]"
   ]
  },
  {
   "cell_type": "markdown",
   "id": "b4578b37",
   "metadata": {},
   "source": [
    "4- After computing the exact value of $A$, write a Python program that searches for the minimun values $N_{Trap}, N_{Mid}$ less than 10000 such that **Trap, Mid**, respectively, give a better approximation of $A$ then **quad**.  If any the value  $ N_{Trap}, N_{Mid}$ doesn't exist your program should print the string **No $N_{Trap}$ found** or **No $N_{Mid}$ found**, respectively."
   ]
  },
  {
   "cell_type": "code",
   "execution_count": null,
   "id": "70a07efc",
   "metadata": {},
   "outputs": [],
   "source": []
  },
  {
   "cell_type": "markdown",
   "id": "87059133",
   "metadata": {},
   "source": [
    "**Problem 4**\n",
    "\n",
    "Let $\\{ t_k\\}$ be a partition of $[a,b]$ such that $a=t_0<t_1<\\cdots<t_{N}=b$ and $H$ be the constant length of the $k$-th subinterval ($H = t_k - t_{k-1}$). Let us consider initial value problem\n",
    "\n",
    "\\begin{equation}\\label{eul2}\n",
    "  \\begin{cases}\n",
    "    \\dfrac{dz}{dt} = f(z,t),      & \\quad \\text{on } [a, b]\\\\\\\\\n",
    "    z(a) = c,\n",
    "  \\end{cases}\n",
    "\\end{equation}\n",
    "where $z,f,c\\in R^M$ i.e. $z = [x_1, x_2,\\cdots, x_{M}]$, $c = [x_1(a), x_2(a),\\cdots, x_{M}(a)]$ and $f = [f_1, f_2,\\cdots, f_{M}]$. Note that \\eqref{eul2} is a the general form of system of ODEs. \n",
    "\n",
    "Let $t, z_k,Z$ defined as follows $$t=[t_0,t_2,\\cdots,t_{N-1},t_{N}],\\quad z_k = [x_1(t_k), x_2(t_k),\\cdots, x_{M}(t_k)], \\quad\n",
    "Z =\\begin{pmatrix}\n",
    "x_1(t_0)& x_2(t_0)&\\cdots& x_{M}(t_0)\\\\\n",
    "x_1(t_1)& x_2(t_1)&\\cdots& x_{M}(t_1)\\\\\n",
    "x_1(t_2)& x_2(t_2)&\\cdots& x_{M}(t_2)\\\\\n",
    "\\vdots& \\vdots&\\ddots& \\vdots\\\\\n",
    "x_1(t_{N})& x_2(t_{N})&\\cdots& x_{M}(t_{N})\n",
    "\\end{pmatrix}\n",
    "$$\n",
    "\n",
    "1. Write a python function <b> EulerOdeSys </b> that takes $f,c,t$ and return the solution $Z$ of the initial value problem \\eqref{eul2} using Euler method i.e.\n",
    "$$ z_{k+1} = z_k + Hf(z_k,t_k) $$\n"
   ]
  },
  {
   "cell_type": "code",
   "execution_count": 11,
   "id": "9f47dc22",
   "metadata": {},
   "outputs": [],
   "source": [
    "def EulerOdeSys(f,c,t):\n",
    "    H = (t[1]-t[0]) \n",
    "    z = np.zeros((len(t),len(c)))\n",
    "    z[0,:] = c\n",
    "    for i in range(len(t)):\n",
    "        for j in range(len(f)+1):\n",
    "            z[i+1,j]= z[i,j] + H*f[j](z[i,:],t[i])\n",
    "    return z"
   ]
  },
  {
   "cell_type": "markdown",
   "id": "dd1978b2",
   "metadata": {},
   "source": [
    "2. Write a python function <b> RalstonOdeSys </b> that takes $f,c,t$ and return the solution $Z$ of the initial value problem (1) using the Ralston method i.e.\n",
    "\n",
    "\\begin{equation}\n",
    "\\begin{cases}\n",
    "k_1 = f(z_k,t_k),\\\\\\\\\n",
    "k_2 = f(z_k+\\dfrac{2}{3}Hk_1, t_k + \\dfrac{2}{3}H),\\\\\\\\\n",
    "z_{k+1} = z_k + H(\\dfrac{1}{4}k_1+\\dfrac{3}{4}k_2)\n",
    "\\end{cases}\n",
    "\\end{equation}\n"
   ]
  },
  {
   "cell_type": "code",
   "execution_count": 32,
   "id": "641387c4",
   "metadata": {},
   "outputs": [],
   "source": [
    "def  RalstonOdeSys(f,c,t):\n",
    "    h = (t[1]-t[0]) \n",
    "    t = np.linspace(0,2,N+1)\n",
    "    z=np.empty((len(t),len(f)))\n",
    "    z[0,:] = c\n",
    "    for i in range(len(t)):\n",
    "        for j in range(len(f)):\n",
    "            k_1 = f[j](z[i+1,j],t[i])\n",
    "            k_2 = f[j](z[i+1,j]+h*(2*k_1/3),t[i]+(2*h)/2)\n",
    "            z[i+1,j]=z[i,j]+h*((1/4)* k_1 + (3/4) * k_2)\n",
    "    return z"
   ]
  },
  {
   "cell_type": "markdown",
   "id": "21b27a01",
   "metadata": {},
   "source": [
    "**Problem 5**\n",
    "\n",
    "Let $\\{ x_k\\}$ be a partition of $[a,b]$ such that $a=x_0<\\cdots<x_{N-1}<x_{N}=b$ and $H$ be the constant length of the $k$-th subinterval ($H = x_k - x_{k-1}$). Let consider the second-order differential equation\n",
    "\n",
    "\\begin{equation}\n",
    "  \\begin{cases}\n",
    "   \\dfrac{d^2 y}{dx^2} + \\dfrac{d y}{dx}-6y = 0 \\qquad\\forall x\\in [a,b]\\\\\\\\\n",
    "\\dfrac{d y}{dx}(a)=0 , y(a) = 1\n",
    "  \\end{cases}\n",
    "\\end{equation}\n",
    "\n",
    "Let $\\{ y_k\\}$ be the approximate solution i.e.  $y_k\\approx g(x_k)=g_k$ where $g(x) = \\dfrac{3}{5}e^{2x}+ \\dfrac{2}{5}e^{-3x}$ is the exact solution. Let us denote $e_k = \\mid g_k - y_k\\mid$\n",
    "\n",
    "1- Using the Python in-built function **odeint**, write a python function <b> SODE </b> that takes $a,b,N$ (with $N= 100$ as default value) and return array of all $x_k$, $y_k$, $g_k$ and $e_k$.\n"
   ]
  },
  {
   "cell_type": "code",
   "execution_count": 51,
   "id": "7248a60a",
   "metadata": {},
   "outputs": [],
   "source": [
    "def func(z,x):\n",
    "    y,v = z\n",
    "    dydx = v\n",
    "    dvdx = 6*y-v\n",
    "    return np.array([dydx,dvdx])\n",
    "def SODE(a,b,N=100):\n",
    "    xi = np.array([1,0])\n",
    "    x = np.linspace(a,b,N+1)\n",
    "    z = odeint(func,xi,x)\n",
    "    g = lambda x: (3/5)*np.exp(2*x) + (2/5) * np.exp(-3*x)\n",
    "    e = abs(g(x)- z[:,0])\n",
    "    return np.array([x,z[:,0],g(x),e])"
   ]
  },
  {
   "cell_type": "markdown",
   "id": "389319fe",
   "metadata": {},
   "source": [
    "2- Using **odeint**, solve the second-order differential equation for $a = 0, b = 2$ and use subplot to plot side by side\n",
    "- $y_k$ and $g_k$ vs $x_k$\n",
    "- $e_k$ vs $x_k$"
   ]
  },
  {
   "cell_type": "code",
   "execution_count": 52,
   "id": "594e6677",
   "metadata": {},
   "outputs": [
    {
     "data": {
      "image/png": "[encoded data removed]",
      "text/plain": [
       "<Figure size 432x288 with 2 Axes>"
      ]
     },
     "metadata": {
      "needs_background": "light"
     },
     "output_type": "display_data"
    }
   ],
   "source": [
    "xk, yk, gk, ek = SODE(0,2)\n",
    "fig, axs = plt.subplots(2, 2)\n",
    "plt.subplot(1,2,1)\n",
    "plt.plot(xk,yk, ':k',label=\"odeint approx\")\n",
    "plt.plot(xk,gk,'--c', label = \"actual x\")\n",
    "plt.legend()\n",
    "\n",
    "plt.subplot(1,2,2)\n",
    "plt.plot(xk,ek, label=\"error of x\")\n",
    "plt.legend()\n",
    "\n",
    "plt.show()"
   ]
  },
  {
   "cell_type": "markdown",
   "id": "a8069746",
   "metadata": {},
   "source": [
    "3- Using <b> RalstonOdeSys </b>, solve the second-order differential equation for $a = 0, b = 2$ and use subplot to plot side by side\n",
    "- $y_k$ and $g_k$ vs $x_k$\n",
    "- $e_k$ vs $x_k$"
   ]
  },
  {
   "cell_type": "code",
   "execution_count": 35,
   "id": "39175089",
   "metadata": {},
   "outputs": [
    {
     "ename": "TypeError",
     "evalue": "object of type 'function' has no len()",
     "output_type": "error",
     "traceback": [
      "\u001b[0;31m---------------------------------------------------------------------------\u001b[0m",
      "\u001b[0;31mTypeError\u001b[0m                                 Traceback (most recent call last)",
      "\u001b[0;32m<ipython-input-35-4f47e818e994>\u001b[0m in \u001b[0;36m<module>\u001b[0;34m\u001b[0m\n\u001b[1;32m      3\u001b[0m \u001b[0mt\u001b[0m \u001b[0;34m=\u001b[0m \u001b[0mnp\u001b[0m\u001b[0;34m.\u001b[0m\u001b[0mlinspace\u001b[0m\u001b[0;34m(\u001b[0m\u001b[0;36m0\u001b[0m\u001b[0;34m,\u001b[0m\u001b[0;36m2\u001b[0m\u001b[0;34m,\u001b[0m\u001b[0;36m100\u001b[0m\u001b[0;34m)\u001b[0m\u001b[0;34m\u001b[0m\u001b[0;34m\u001b[0m\u001b[0m\n\u001b[1;32m      4\u001b[0m \u001b[0mN\u001b[0m \u001b[0;34m=\u001b[0m \u001b[0;36m100\u001b[0m\u001b[0;34m\u001b[0m\u001b[0;34m\u001b[0m\u001b[0m\n\u001b[0;32m----> 5\u001b[0;31m \u001b[0mz\u001b[0m\u001b[0;34m=\u001b[0m \u001b[0mRalstonOdeSys\u001b[0m\u001b[0;34m(\u001b[0m\u001b[0mf\u001b[0m\u001b[0;34m,\u001b[0m\u001b[0mc\u001b[0m\u001b[0;34m,\u001b[0m\u001b[0mt\u001b[0m\u001b[0;34m)\u001b[0m\u001b[0;34m\u001b[0m\u001b[0;34m\u001b[0m\u001b[0m\n\u001b[0m\u001b[1;32m      6\u001b[0m \u001b[0mxk\u001b[0m\u001b[0;34m=\u001b[0m\u001b[0mu\u001b[0m\u001b[0;34m[\u001b[0m\u001b[0;34m:\u001b[0m\u001b[0;34m,\u001b[0m\u001b[0;36m0\u001b[0m\u001b[0;34m]\u001b[0m\u001b[0;34m\u001b[0m\u001b[0;34m\u001b[0m\u001b[0m\n\u001b[1;32m      7\u001b[0m \u001b[0myk\u001b[0m\u001b[0;34m=\u001b[0m\u001b[0mu\u001b[0m\u001b[0;34m[\u001b[0m\u001b[0;34m:\u001b[0m\u001b[0;34m,\u001b[0m\u001b[0;36m1\u001b[0m\u001b[0;34m]\u001b[0m\u001b[0;34m\u001b[0m\u001b[0;34m\u001b[0m\u001b[0m\n",
      "\u001b[0;32m<ipython-input-32-304af2f07d14>\u001b[0m in \u001b[0;36mRalstonOdeSys\u001b[0;34m(f, c, t)\u001b[0m\n\u001b[1;32m      2\u001b[0m     \u001b[0mh\u001b[0m \u001b[0;34m=\u001b[0m \u001b[0;34m(\u001b[0m\u001b[0mt\u001b[0m\u001b[0;34m[\u001b[0m\u001b[0;36m1\u001b[0m\u001b[0;34m]\u001b[0m\u001b[0;34m-\u001b[0m\u001b[0mt\u001b[0m\u001b[0;34m[\u001b[0m\u001b[0;36m0\u001b[0m\u001b[0;34m]\u001b[0m\u001b[0;34m)\u001b[0m\u001b[0;34m\u001b[0m\u001b[0;34m\u001b[0m\u001b[0m\n\u001b[1;32m      3\u001b[0m     \u001b[0mt\u001b[0m \u001b[0;34m=\u001b[0m \u001b[0mnp\u001b[0m\u001b[0;34m.\u001b[0m\u001b[0mlinspace\u001b[0m\u001b[0;34m(\u001b[0m\u001b[0;36m0\u001b[0m\u001b[0;34m,\u001b[0m\u001b[0;36m2\u001b[0m\u001b[0;34m,\u001b[0m\u001b[0mN\u001b[0m\u001b[0;34m+\u001b[0m\u001b[0;36m1\u001b[0m\u001b[0;34m)\u001b[0m\u001b[0;34m\u001b[0m\u001b[0;34m\u001b[0m\u001b[0m\n\u001b[0;32m----> 4\u001b[0;31m     \u001b[0mz\u001b[0m\u001b[0;34m=\u001b[0m\u001b[0mnp\u001b[0m\u001b[0;34m.\u001b[0m\u001b[0mempty\u001b[0m\u001b[0;34m(\u001b[0m\u001b[0;34m(\u001b[0m\u001b[0mlen\u001b[0m\u001b[0;34m(\u001b[0m\u001b[0mt\u001b[0m\u001b[0;34m)\u001b[0m\u001b[0;34m,\u001b[0m\u001b[0mlen\u001b[0m\u001b[0;34m(\u001b[0m\u001b[0mf\u001b[0m\u001b[0;34m)\u001b[0m\u001b[0;34m)\u001b[0m\u001b[0;34m)\u001b[0m\u001b[0;34m\u001b[0m\u001b[0;34m\u001b[0m\u001b[0m\n\u001b[0m\u001b[1;32m      5\u001b[0m     \u001b[0mz\u001b[0m\u001b[0;34m[\u001b[0m\u001b[0;36m0\u001b[0m\u001b[0;34m,\u001b[0m\u001b[0;34m:\u001b[0m\u001b[0;34m]\u001b[0m \u001b[0;34m=\u001b[0m \u001b[0mc\u001b[0m\u001b[0;34m\u001b[0m\u001b[0;34m\u001b[0m\u001b[0m\n\u001b[1;32m      6\u001b[0m     \u001b[0;32mfor\u001b[0m \u001b[0mi\u001b[0m \u001b[0;32min\u001b[0m \u001b[0mrange\u001b[0m\u001b[0;34m(\u001b[0m\u001b[0mlen\u001b[0m\u001b[0;34m(\u001b[0m\u001b[0mt\u001b[0m\u001b[0;34m)\u001b[0m\u001b[0;34m)\u001b[0m\u001b[0;34m:\u001b[0m\u001b[0;34m\u001b[0m\u001b[0;34m\u001b[0m\u001b[0m\n",
      "\u001b[0;31mTypeError\u001b[0m: object of type 'function' has no len()"
     ]
    }
   ],
   "source": [
    "f = lambda x: [(3/5)*np.exp(2*x) + (2/5) * np.exp(-3*x)]\n",
    "c = 1\n",
    "t = np.linspace(0,2,100)\n",
    "N = 100\n",
    "z= RalstonOdeSys(f,c,t)\n",
    "xk=u[:,0]\n",
    "yk=u[:,1]\n",
    "zk=u[:,2]\n",
    "\n",
    "# fig, axs = plt.subplots(2, 2, figsize=(15, 15))\n",
    "# plt.subplot(3,1,1)\n",
    "# plt.plot(t,xk, ':k',label=\"R4 x\")\n",
    "# plt.legend()\n",
    "\n",
    "# plt.subplot(3,1,2)\n",
    "# plt.plot(t,yk,label=\"R4 y\")\n",
    "\n",
    "# plt.subplot(3,1,3)\n",
    "# plt.plot(t,zk,label=\"R4 z\")\n",
    "\n",
    "\n",
    "\n",
    "\n",
    "# plt.show"
   ]
  },
  {
   "cell_type": "markdown",
   "id": "af61af39",
   "metadata": {},
   "source": [
    "4- Using <b> EulerOdeSys </b>, solve the second-order differential equation for $a = 0, b = 2$ and use subplot to plot side by side\n",
    "- $y_k$ and $g_k$ vs $x_k$\n",
    "- $e_k$ vs $x_k$"
   ]
  },
  {
   "cell_type": "code",
   "execution_count": null,
   "id": "6b842f4a",
   "metadata": {},
   "outputs": [],
   "source": []
  },
  {
   "cell_type": "markdown",
   "id": "5ac35f5c",
   "metadata": {},
   "source": [
    "5- The L2 error, $L2Er$ between the exact and the approximate solution given by\n",
    "\n",
    "$$L2Er = \\sum_0^N H(y_k - g_k)^2$$\n",
    "\n",
    "\n",
    "Write a function called **L2_error** that takes $a,b,H$ and return the L2 error $g_k$ and the approximate solution $y_k$ obtained using **Odeint**, **RalstonOdeSys** and **EulerOdeSys**."
   ]
  },
  {
   "cell_type": "code",
   "execution_count": null,
   "id": "3fe20332",
   "metadata": {},
   "outputs": [],
   "source": []
  },
  {
   "cell_type": "markdown",
   "id": "f8773444",
   "metadata": {},
   "source": [
    "6- Let us denote $L2Er_j$ the output of **L2_error** for a given argument $a,b,H_j$. Using **Odeint**, **RalstonOdeSys** and **EulerOdeSys**, compute the array of $L2Er_j$ for $a = 0, b=2$ and $H_j$ in an array $L =[ 10^{-1}, 10^{-2}, 10^{-3}, 10^{-4}]$."
   ]
  },
  {
   "cell_type": "code",
   "execution_count": null,
   "id": "acc3a81d",
   "metadata": {},
   "outputs": [],
   "source": []
  },
  {
   "cell_type": "markdown",
   "id": "64b40f0d",
   "metadata": {},
   "source": [
    "7- For each method **Odeint**, **RalstonOdeSys** and **EulerOdeSys**, plot in the same graph $log(L2Er_j)$ vs $log(H_j)$."
   ]
  },
  {
   "cell_type": "code",
   "execution_count": null,
   "id": "8ac7eb00",
   "metadata": {},
   "outputs": [],
   "source": []
  },
  {
   "cell_type": "markdown",
   "id": "7732222c",
   "metadata": {},
   "source": [
    "8.By assuming that $log(H_j)$ is the explanatory variable of $log(L2Er_j)$, complete the simple linear regression in the case of  **RalstonOdeSys**, **EulerOdeSys** and display the regression coeficient.\n",
    "\n",
    "Note: Use the whole data to train your linear model."
   ]
  },
  {
   "cell_type": "code",
   "execution_count": null,
   "id": "37972d31",
   "metadata": {},
   "outputs": [],
   "source": []
  },
  {
   "cell_type": "markdown",
   "id": "330ea9b3",
   "metadata": {},
   "source": [
    "**Problem 6**\n",
    "\n",
    "1-The cost of admission to the world cup 2022 game is\n",
    "- 320 USD for 3 children, 1 female  and 1 male \n",
    "- 600 USD  for 4 females and 2 males \n",
    "- 600 USD  for 5 children, 2 females and 2 males \n",
    "\n",
    "Transform the problem into a system of equation (as markdown in the cell below)"
   ]
  },
  {
   "cell_type": "markdown",
   "id": "6094c214",
   "metadata": {},
   "source": [
    "\\begin{equation}\n",
    "\\begin{cases}\n",
    "    3c + f + 1m = 320\\\\\n",
    "    4f + 2m = 600\\\\\n",
    "    5c + 2f + 2m = 600\n",
    "\\end{cases}\n",
    "\\end{equation}\n",
    "\n",
    "c:Children\n",
    "f:Female\n",
    "m:Male"
   ]
  },
  {
   "cell_type": "markdown",
   "id": "2ad69a8a",
   "metadata": {},
   "source": [
    "2- Write a Python code to compute and display how much is the admission for each child, female and male?"
   ]
  },
  {
   "cell_type": "code",
   "execution_count": 7,
   "id": "db4438e9",
   "metadata": {},
   "outputs": [
    {
     "name": "stdout",
     "output_type": "stream",
     "text": [
      "children =  40.0 Females =  100.0 Male =  100.0\n"
     ]
    }
   ],
   "source": [
    "A=np.array([[3,1,1],[0,4,2],[5,2,2]])\n",
    "b=np.array([320,600,600])\n",
    "Z=np.linalg.inv(A)@b\n",
    "print(\"children = \", Z[0], \"Females = \", Z[1], \"Male = \", Z[2])"
   ]
  },
  {
   "cell_type": "markdown",
   "id": "63d1154f",
   "metadata": {},
   "source": [
    "3- Using the Python in-built function fsolve with unitial guess $x=1, y=1$, write a Python code to solve the following system\n",
    "\n",
    "\\begin{equation}\n",
    "\\begin{cases}\n",
    "    e^{x^2} + x = sin(y)\\\\\n",
    "    2e^x + y = 3\n",
    "\\end{cases}\n",
    "\\end{equation}\n"
   ]
  },
  {
   "cell_type": "code",
   "execution_count": 13,
   "id": "c4167f17",
   "metadata": {},
   "outputs": [
    {
     "name": "stdout",
     "output_type": "stream",
     "text": [
      "x=  -0.3793915333122747 y=  -5.395803917749443\n"
     ]
    }
   ],
   "source": [
    "def myFunction(z):\n",
    "    x = z[0]\n",
    "    y = z[1]\n",
    "    F = np.empty((2))\n",
    "    F[0] = np.exp(x**2)+x-np.sin(y)\n",
    "    F[1] = 2*np.exp(x)+np.cos(y) - 2\n",
    "    return F\n",
    "zGuess = np.array([1,1])\n",
    "z = fsolve(myFunction,zGuess)\n",
    "print(\"x= \",z[0], \"y= \",z[1])"
   ]
  }
 ],
 "metadata": {
  "kernelspec": {
   "display_name": "Python 3",
   "language": "python",
   "name": "python3"
  },
  "language_info": {
   "codemirror_mode": {
    "name": "ipython",
    "version": 3
   },
   "file_extension": ".py",
   "mimetype": "text/x-python",
   "name": "python",
   "nbconvert_exporter": "python",
   "pygments_lexer": "ipython3",
   "version": "3.9.2"
  }
 },
 "nbformat": 4,
 "nbformat_minor": 5
}
